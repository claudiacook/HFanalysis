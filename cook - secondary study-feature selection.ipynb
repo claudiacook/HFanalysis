{
 "cells": [
  {
   "cell_type": "code",
   "execution_count": 1,
   "metadata": {},
   "outputs": [
    {
     "name": "stdout",
     "output_type": "stream",
     "text": [
      "3.8.3 (default, Jul  2 2020, 11:26:31) \n",
      "[Clang 10.0.0 ]\n"
     ]
    }
   ],
   "source": [
    "################## IMPORTS #############################\n",
    "\n",
    "## Import all neccessary libraries\n",
    "\n",
    "import numpy as np\n",
    "import matplotlib.pyplot as plt\n",
    "import pandas as pd\n",
    "from sklearn import metrics\n",
    "from sklearn import cluster\n",
    "from sklearn.preprocessing import scale\n",
    "import seaborn as sns\n",
    "\n",
    "## import the dataset for the project\n",
    "data = pd.read_csv(\"datasets//HF mort data for GMPH.csv\",low_memory = False)\n",
    "\n",
    "import sys\n",
    "print(sys.version)\n",
    "\n",
    "data = data.dropna()"
   ]
  },
  {
   "cell_type": "code",
   "execution_count": 2,
   "metadata": {},
   "outputs": [],
   "source": [
    "## x will be the data used for clustering, everything but the class variable (death)\n",
    "x = data.values[:,[3,10,11,15,18]] #age,diabetes, hypertension, copd, renal insufficiency\n",
    "xsiguiente = data.values[:,[3,10,11,15,18]] #age,diabetes, hypertension, copd, renal insufficiency (meter los relacionados con edad)\n",
    "#scaling data\n",
    "x = scale(x)\n",
    "## y will be true class variable; so we can compute metrics\n",
    "y = data.values[:,1]\n"
   ]
  },
  {
   "cell_type": "code",
   "execution_count": 3,
   "metadata": {},
   "outputs": [
    {
     "name": "stdout",
     "output_type": "stream",
     "text": [
      "completeness score 0.04811206274001459\n",
      "homogeneity score 0.045088685054929384\n",
      "silhouette score 0.11620915768938841\n",
      "Max completeness score:  ['average', 'manhattan', 0.08629354709618038, 0.0010287418028445208, 0.3988873793627524]\n",
      "Max homogeneity score:  ['complete', 'euclidean', 0.04811206274001459, 0.045088685054929384, 0.11620915768938841]\n",
      "Max silhouette score:  ['average', 'manhattan', 0.08629354709618038, 0.0010287418028445208, 0.3988873793627524]\n"
     ]
    },
    {
     "data": {
      "image/png": "[encoded data removed]",
      "text/plain": [
       "<Figure size 432x288 with 1 Axes>"
      ]
     },
     "metadata": {
      "needs_background": "light"
     },
     "output_type": "display_data"
    }
   ],
   "source": [
    "###################### CLUSTERING #####################\n",
    "\n",
    "## define number of clusters\n",
    "clusters = 2\n",
    "\n",
    "#set characteristics of the clustering \n",
    "model = cluster.AgglomerativeClustering(n_clusters = clusters,linkage = 'complete',affinity = \"euclidean\")\n",
    "\n",
    "#will generate the clusters\n",
    "model.fit(x)\n",
    "\n",
    "##compute metrics\n",
    "print(\"completeness score\", metrics.completeness_score(y,model.labels_))\n",
    "print(\"homogeneity score\", metrics.homogeneity_score(y,model.labels_))\n",
    "print(\"silhouette score\", metrics.silhouette_score(x,model.labels_))\n",
    "\n",
    "\n",
    "###### dendrogram ############# no se si ponerlo porque son todos feos\n",
    "from scipy.cluster.hierarchy import dendrogram,linkage\n",
    "\n",
    "## que elijo aqui??\n",
    "\n",
    "#model = linkage(x,'ward')\n",
    "#plt.figure(figsize = (16,10))\n",
    "#dendrogram(model,leaf_rotation = 90.,leaf_font_size = 8.,)\n",
    "#plt.show()\n",
    "\n",
    "\n",
    "\n",
    "################## comparison of scores based on distance and affinity measures #############################\n",
    "\n",
    "## we will loop through the following metrics\n",
    "link = (['ward','complete', 'average', 'single'])\n",
    "aff = (['euclidean','manhattan', 'cosine'])\n",
    "\n",
    "## and save results here\n",
    "results = []\n",
    "\n",
    "for i in link:\n",
    "    for j in aff:\n",
    "        if (i == 'ward' and aff != 'euclidean'): ## we need to make this condition because ward only works with euclidean \n",
    "            continue\n",
    "        else:    \n",
    "            ## build model\n",
    "            model = cluster.AgglomerativeClustering(n_clusters = clusters,linkage = i,affinity = j)\n",
    "            #model = cluster.AgglomerativeClustering(n_clusters = clusters,linkage = 'single',affinity = \"cosine\")\n",
    "\n",
    "            #fit data to our empty model\n",
    "            model.fit(x)\n",
    "\n",
    "            c = metrics.completeness_score(y,model.labels_)\n",
    "            h = metrics.homogeneity_score(y,model.labels_)\n",
    "            s = metrics.silhouette_score(x,model.labels_)\n",
    "            \n",
    "            results.append([i,j,c,h,s])\n",
    "\n",
    "        \n",
    "## ideally, would store each value in its vector (3 vectors, one for each type of score) and the find max\n",
    "\n",
    "## Now we find the variables that maximize each matrix\n",
    "\n",
    "## COMPLETENESS    \n",
    "MAX = []\n",
    "maxV = 0 \n",
    "maxI = -1\n",
    "for i in range (0,len(results)):\n",
    "    if (results[i][2] > maxV):\n",
    "        maxV = results[i][2]\n",
    "        maxI = i\n",
    "      \n",
    "print('Max completeness score: ', results[maxI] ) \n",
    "MAX.append(results[maxI])\n",
    "\n",
    "##HOOGENEITY\n",
    "maxV = 0 \n",
    "maxI = -1\n",
    "for i in range (0,len(results)):\n",
    "    if (results[i][3] > maxV):\n",
    "        maxV = results[i][3]\n",
    "        maxI = i\n",
    "        \n",
    "print('Max homogeneity score: ', results[maxI] )   \n",
    "MAX.append(results[maxI])\n",
    "\n",
    "##SILHOUETTE\n",
    "maxV = 0 \n",
    "maxI = -1\n",
    "for i in range (0,len(results)):\n",
    "    if (results[i][4] > maxV):\n",
    "        maxV = results[i][4]\n",
    "        maxI = i\n",
    "        \n",
    "print('Max silhouette score: ', results[maxI] ) \n",
    "MAX.append(results[maxI])\n",
    "\n",
    "\n",
    "## create dataframe\n",
    "datos ={'completeness': [MAX[0][2], MAX[1][2],MAX[2][2]],\n",
    "       'homogeneity' : [MAX[0][3], MAX[1][3],MAX[2][3]],\n",
    "       'silhouette'  : [MAX[0][4], MAX[1][4],MAX[2][4]] }\n",
    "\n",
    "frame = pd.DataFrame(datos)\n",
    "nombres = ('complete-euclidean','average-cosine','single-manhattan')\n",
    "frame.plot.bar().set_xticklabels(nombres,rotation = 30)\n",
    "plt.show()\n",
    "\n",
    "## the first group maximizes completenss score, middle homogeneity and last one silhouette.\n"
   ]
  },
  {
   "cell_type": "code",
   "execution_count": 4,
   "metadata": {},
   "outputs": [
    {
     "name": "stdout",
     "output_type": "stream",
     "text": [
      "Max completeness score:  [28, 0.019455594267948437, 0.08599573596203407, 0.588303342756444]\n",
      "Max homogeneity score:  [28, 0.019455594267948437, 0.08599573596203407, 0.588303342756444]\n",
      "Max silhouette score:  [24, 0.014521011220572672, 0.060605914950693715, 0.5949331866031397]\n"
     ]
    },
    {
     "data": {
      "image/png": "[encoded data removed]",
      "text/plain": [
       "<Figure size 432x288 with 1 Axes>"
      ]
     },
     "metadata": {
      "needs_background": "light"
     },
     "output_type": "display_data"
    },
    {
     "data": {
      "image/png": "[encoded data removed]",
      "text/plain": [
       "<Figure size 432x288 with 1 Axes>"
      ]
     },
     "metadata": {
      "needs_background": "light"
     },
     "output_type": "display_data"
    }
   ],
   "source": [
    "######################### K MEANS ###############################\n",
    "dict_results = {}\n",
    "\n",
    "\n",
    "\n",
    "res = []\n",
    "for i in range(2,30):\n",
    "    model_K = cluster.KMeans(n_clusters = i)\n",
    "    model_K.fit(x)\n",
    "    \n",
    "    c = metrics.completeness_score(y,model_K.labels_)\n",
    "    h = metrics.homogeneity_score(y,model_K.labels_)\n",
    "    s = metrics.silhouette_score(x,model_K.labels_)\n",
    "    res.append([i,c,h,s])\n",
    "\n",
    "    dict_results[i] = { 'completeness' : c,\n",
    "                        'homogeneity' : h,\n",
    "                        'silhouette' : s,\n",
    "        \n",
    "    }\n",
    "    \n",
    "    ## Find maximum\n",
    "## COMPLETENESS    \n",
    "maxV = 0 \n",
    "maxI = -1\n",
    "MAXx = []\n",
    "for i in range (0,len(res)):\n",
    "    if (res[i][1] > maxV):\n",
    "        maxV = res[i][1]\n",
    "        maxI = i\n",
    "print('Max completeness score: ', res[maxI] )   \n",
    "MAXx.append(res[maxI])\n",
    "\n",
    "\n",
    "##HOOGENEITY\n",
    "maxV = 0 \n",
    "maxI = -1\n",
    "for i in range (0,len(res)):\n",
    "    if (res[i][2] > maxV):\n",
    "        maxV = res[i][2]\n",
    "        maxI = i\n",
    "print('Max homogeneity score: ', res[maxI] )  \n",
    "MAXx.append(res[maxI])\n",
    "\n",
    "##SILHOUETTE\n",
    "maxV = 0 \n",
    "maxI = -1\n",
    "for i in range (0,len(res)):\n",
    "    if (res[i][3] > maxV):\n",
    "        maxV = res[i][3]\n",
    "        maxI = i\n",
    "print('Max silhouette score: ', res[maxI] )  \n",
    "MAXx.append(res[maxI])\n",
    "\n",
    "\n",
    "dato ={'completeness': [MAXx[0][1], MAXx[1][1],MAXx[2][1]],\n",
    "       'homogeneity' : [MAXx[0][2], MAXx[1][2],MAXx[2][2]],\n",
    "       'silhouette'  : [MAXx[0][3], MAXx[1][3],MAXx[2][3]] }\n",
    "\n",
    "frame = pd.DataFrame(dato)\n",
    "clus1 = MAXx[0][0]\n",
    "clus2 = MAXx[1][0]\n",
    "clus3 = MAXx[2][0]\n",
    "nombres = (clus1,clus2,clus3)\n",
    "frame.plot.bar().set_xticklabels(nombres,rotation = 30)\n",
    "plt.show()\n",
    "\n",
    "\n",
    "## line plot\n",
    "num = np.arange(2,31) \n",
    "kmeansresults = pd.DataFrame(dict_results).T\n",
    "kmeansresults.plot(grid = True).set_xticks(num)\n",
    "plt.show()"
   ]
  },
  {
   "cell_type": "code",
   "execution_count": 5,
   "metadata": {},
   "outputs": [],
   "source": [
    "############### FUNCION para guardar los valores ########################\n",
    "\n",
    "def print_metrics(y_true, y_pred):\n",
    "    \n",
    "    accuracy = metrics.accuracy_score(y_true, y_pred)\n",
    "    f1 = metrics.f1_score(y_true, y_pred)\n",
    "    precision = metrics.precision_score(y_true, y_pred)\n",
    "    recall = metrics.recall_score(y_true, y_pred)\n",
    "\n",
    "    return {\n",
    "        'accuracy': accuracy,\n",
    "        'f1': f1,\n",
    "        'precision': precision,\n",
    "        'recall': recall,\n",
    "    }"
   ]
  },
  {
   "cell_type": "code",
   "execution_count": 6,
   "metadata": {},
   "outputs": [
    {
     "name": "stdout",
     "output_type": "stream",
     "text": [
      "LogisticRegression()\n",
      "\n",
      "Classification report:\n",
      "               precision    recall  f1-score   support\n",
      "\n",
      "         0.0       0.56      0.60      0.58       136\n",
      "         1.0       0.61      0.57      0.59       150\n",
      "\n",
      "    accuracy                           0.59       286\n",
      "   macro avg       0.59      0.59      0.59       286\n",
      "weighted avg       0.59      0.59      0.59       286\n",
      "\n",
      "Confusion matrix:\n",
      "\n",
      "[[82 54]\n",
      " [64 86]]\n",
      "0.6142857142857143\n"
     ]
    },
    {
     "data": {
      "image/png": "[encoded data removed]",
      "text/plain": [
       "<Figure size 432x288 with 2 Axes>"
      ]
     },
     "metadata": {
      "needs_background": "light"
     },
     "output_type": "display_data"
    },
    {
     "name": "stdout",
     "output_type": "stream",
     "text": [
      "KNeighborsClassifier()\n",
      "\n",
      "Classification report:\n",
      "               precision    recall  f1-score   support\n",
      "\n",
      "         0.0       0.54      0.67      0.60       136\n",
      "         1.0       0.62      0.49      0.54       150\n",
      "\n",
      "    accuracy                           0.57       286\n",
      "   macro avg       0.58      0.58      0.57       286\n",
      "weighted avg       0.58      0.57      0.57       286\n",
      "\n",
      "Confusion matrix:\n",
      "\n",
      "[[91 45]\n",
      " [77 73]]\n",
      "0.6186440677966102\n"
     ]
    },
    {
     "data": {
      "image/png": "[encoded data removed]",
      "text/plain": [
       "<Figure size 432x288 with 2 Axes>"
      ]
     },
     "metadata": {
      "needs_background": "light"
     },
     "output_type": "display_data"
    },
    {
     "name": "stdout",
     "output_type": "stream",
     "text": [
      "\n",
      "Classification report:\n",
      "               precision    recall  f1-score   support\n",
      "\n",
      "         0.0       0.54      0.68      0.60       136\n",
      "         1.0       0.62      0.47      0.53       150\n",
      "\n",
      "    accuracy                           0.57       286\n",
      "   macro avg       0.58      0.58      0.57       286\n",
      "weighted avg       0.58      0.57      0.57       286\n",
      "\n",
      "Confusion matrix:\n",
      "\n",
      "[[93 43]\n",
      " [80 70]]\n",
      "0.6194690265486725\n"
     ]
    },
    {
     "data": {
      "image/png": "[encoded data removed]",
      "text/plain": [
       "<Figure size 432x288 with 2 Axes>"
      ]
     },
     "metadata": {
      "needs_background": "light"
     },
     "output_type": "display_data"
    },
    {
     "name": "stdout",
     "output_type": "stream",
     "text": [
      "GaussianNB()\n",
      "\n",
      "Classification report:\n",
      "               precision    recall  f1-score   support\n",
      "\n",
      "         0.0       0.59      0.46      0.52       136\n",
      "         1.0       0.59      0.71      0.65       150\n",
      "\n",
      "    accuracy                           0.59       286\n",
      "   macro avg       0.59      0.59      0.58       286\n",
      "weighted avg       0.59      0.59      0.59       286\n",
      "\n",
      "Confusion matrix:\n",
      "\n",
      "[[ 63  73]\n",
      " [ 43 107]]\n",
      "0.5944444444444444\n"
     ]
    },
    {
     "data": {
      "image/png": "[encoded data removed]",
      "text/plain": [
       "<Figure size 432x288 with 2 Axes>"
      ]
     },
     "metadata": {
      "needs_background": "light"
     },
     "output_type": "display_data"
    },
    {
     "name": "stdout",
     "output_type": "stream",
     "text": [
      "RECALL:  0.7133333333333334\n"
     ]
    },
    {
     "data": {
      "image/png": "[encoded data removed]",
      "text/plain": [
       "<Figure size 432x288 with 1 Axes>"
      ]
     },
     "metadata": {
      "needs_background": "light"
     },
     "output_type": "display_data"
    },
    {
     "data": {
      "text/html": [
       "<div>\n",
       "<style scoped>\n",
       "    .dataframe tbody tr th:only-of-type {\n",
       "        vertical-align: middle;\n",
       "    }\n",
       "\n",
       "    .dataframe tbody tr th {\n",
       "        vertical-align: top;\n",
       "    }\n",
       "\n",
       "    .dataframe thead th {\n",
       "        text-align: right;\n",
       "    }\n",
       "</style>\n",
       "<table border=\"1\" class=\"dataframe\">\n",
       "  <thead>\n",
       "    <tr style=\"text-align: right;\">\n",
       "      <th></th>\n",
       "      <th>Logistic Regression</th>\n",
       "      <th>K-nearest neighbors</th>\n",
       "      <th>Decision Tree</th>\n",
       "      <th>Naive Bayes</th>\n",
       "    </tr>\n",
       "  </thead>\n",
       "  <tbody>\n",
       "    <tr>\n",
       "      <th>accuracy</th>\n",
       "      <td>0.587413</td>\n",
       "      <td>0.573427</td>\n",
       "      <td>0.569930</td>\n",
       "      <td>0.594406</td>\n",
       "    </tr>\n",
       "    <tr>\n",
       "      <th>f1</th>\n",
       "      <td>0.593103</td>\n",
       "      <td>0.544776</td>\n",
       "      <td>0.532319</td>\n",
       "      <td>0.648485</td>\n",
       "    </tr>\n",
       "    <tr>\n",
       "      <th>precision</th>\n",
       "      <td>0.614286</td>\n",
       "      <td>0.618644</td>\n",
       "      <td>0.619469</td>\n",
       "      <td>0.594444</td>\n",
       "    </tr>\n",
       "    <tr>\n",
       "      <th>recall</th>\n",
       "      <td>0.573333</td>\n",
       "      <td>0.486667</td>\n",
       "      <td>0.466667</td>\n",
       "      <td>0.713333</td>\n",
       "    </tr>\n",
       "  </tbody>\n",
       "</table>\n",
       "</div>"
      ],
      "text/plain": [
       "           Logistic Regression  K-nearest neighbors  Decision Tree  \\\n",
       "accuracy              0.587413             0.573427       0.569930   \n",
       "f1                    0.593103             0.544776       0.532319   \n",
       "precision             0.614286             0.618644       0.619469   \n",
       "recall                0.573333             0.486667       0.466667   \n",
       "\n",
       "           Naive Bayes  \n",
       "accuracy      0.594406  \n",
       "f1            0.648485  \n",
       "precision     0.594444  \n",
       "recall        0.713333  "
      ]
     },
     "execution_count": 6,
     "metadata": {},
     "output_type": "execute_result"
    }
   ],
   "source": [
    "################################## SUPERVISED LEARNING ##################################\n",
    "import sklearn.model_selection\n",
    "\n",
    "\n",
    "\n",
    "\n",
    "dict_results = {}\n",
    "\n",
    "#Segment the data in a training and test set with a 70/30 split\n",
    "xtrain, xtest, ytrain, ytest = sklearn.model_selection.train_test_split(x, y, test_size = 0.30)\n",
    "\n",
    "############################# Logistic regression ######################################\n",
    "\n",
    "from sklearn.linear_model import LogisticRegression\n",
    "\n",
    "model = LogisticRegression()\n",
    "model.fit(xtrain,ytrain)\n",
    "##PROBA?\n",
    "\n",
    "print(model)\n",
    "ypred = model.predict(xtest)\n",
    "\n",
    "## predictions\n",
    "print(\"\\nClassification report:\\n\", metrics.classification_report(ytest,ypred))\n",
    "print(\"Confusion matrix:\\n\")\n",
    "print(metrics.confusion_matrix(ytest,ypred))\n",
    "\n",
    "print(sklearn.metrics.precision_score(ytest,ypred))\n",
    "class_names = (0,1)\n",
    "#sklearn.metrics.plot_confusion_matrix(model,xtest,ytest)\n",
    "sklearn.metrics.plot_confusion_matrix(model,xtest,ytest,display_labels=class_names,cmap=plt.cm.Blues)\n",
    "## to choose more colormaps: https://matplotlib.org/3.1.0/tutorials/colors/colormaps.html\n",
    "\n",
    "plt.title('LOGISTIC REGRESSION')\n",
    "plt.show()\n",
    "\n",
    "\n",
    "\n",
    "dict_results['Logistic Regression'] = print_metrics(ytest, ypred)\n",
    "\n",
    "############################## K NEAREST NEIGHBORS ##############################\n",
    "from sklearn.neighbors import KNeighborsClassifier\n",
    "\n",
    "model2 = KNeighborsClassifier()\n",
    "#model2 = KNeighborsClassifier(weights = 'distance')\n",
    "model2.fit(xtrain,ytrain)\n",
    "\n",
    "print(model2)\n",
    "ypred = model2.predict(xtest)\n",
    "\n",
    "## predictions\n",
    "print(\"\\nClassification report:\\n\", metrics.classification_report(ytest,ypred))\n",
    "print(\"Confusion matrix:\\n\")\n",
    "print(metrics.confusion_matrix(ytest,ypred))\n",
    "\n",
    "\n",
    "print(sklearn.metrics.precision_score(ytest,ypred))\n",
    "class_names = (0,1)\n",
    "#sklearn.metrics.plot_confusion_matrix(model,xtest,ytest)\n",
    "sklearn.metrics.plot_confusion_matrix(model2,xtest,ytest,display_labels=class_names,cmap=plt.cm.BuPu)\n",
    "## to choose more colormaps: https://matplotlib.org/3.1.0/tutorials/colors/colormaps.html\n",
    "\n",
    "plt.title('KNN')\n",
    "plt.show()\n",
    "\n",
    "\n",
    "dict_results['K-nearest neighbors'] = print_metrics(ytest, ypred)\n",
    "############################## DECISION TREEEE ##############################\n",
    "\n",
    "from sklearn.tree import DecisionTreeClassifier\n",
    "\n",
    "model3 = DecisionTreeClassifier()\n",
    "model3.fit(xtrain,ytrain)\n",
    "\n",
    "\n",
    "ypred = model3.predict(xtest)\n",
    "\n",
    "## predictions\n",
    "print(\"\\nClassification report:\\n\", metrics.classification_report(ytest,ypred))\n",
    "print(\"Confusion matrix:\\n\")\n",
    "print(metrics.confusion_matrix(ytest,ypred))\n",
    "\n",
    "\n",
    "print(sklearn.metrics.precision_score(ytest,ypred))\n",
    "class_names = (0,1)\n",
    "#sklearn.metrics.plot_confusion_matrix(model,xtest,ytest)\n",
    "sklearn.metrics.plot_confusion_matrix(model3,xtest,ytest,display_labels=class_names,cmap=plt.cm.Greens)\n",
    "## to choose more colormaps: https://matplotlib.org/3.1.0/tutorials/colors/colormaps.html\n",
    "\n",
    "plt.title('DECISION TREE')\n",
    "plt.show()\n",
    "\n",
    "\n",
    "dict_results['Decision Tree'] = print_metrics(ytest, ypred)\n",
    "################################### NAIVE BAYES ####################################\n",
    "\n",
    "\n",
    "from sklearn.naive_bayes import GaussianNB\n",
    "\n",
    "\n",
    "model4 =  GaussianNB()\n",
    "model4.fit(xtrain,ytrain)\n",
    "\n",
    "print(model4)\n",
    "ypred = model4.predict(xtest)\n",
    "\n",
    "## predictions\n",
    "print(\"\\nClassification report:\\n\", metrics.classification_report(ytest,ypred))\n",
    "print(\"Confusion matrix:\\n\")\n",
    "print(metrics.confusion_matrix(ytest,ypred))\n",
    "\n",
    "\n",
    "\n",
    "\n",
    "\n",
    "print(sklearn.metrics.precision_score(ytest,ypred))\n",
    "class_names = (0,1)\n",
    "#sklearn.metrics.plot_confusion_matrix(model,xtest,ytest)\n",
    "sklearn.metrics.plot_confusion_matrix(model4,xtest,ytest,display_labels=class_names,cmap=plt.cm.YlOrRd)\n",
    "## to choose more colormaps: https://matplotlib.org/3.1.0/tutorials/colors/colormaps.html\n",
    "\n",
    "plt.title('NAIVE BAYES')\n",
    "plt.show()\n",
    "print('RECALL: ',metrics.recall_score(ytest, ypred))\n",
    "\n",
    "dict_results['Naive Bayes'] = print_metrics(ytest, ypred)\n",
    "\n",
    "\n",
    "############## final comparison table #################\n",
    "supT = pd.DataFrame(dict_results).T\n",
    "sup = pd.DataFrame(dict_results)\n",
    "\n",
    "\n",
    "## este es el plot que quiero\n",
    "supT\n",
    "supT.plot.bar()\n",
    "plt.legend(loc = 'lower right')\n",
    "plt.show()\n",
    "\n",
    "## y esta tabla\n",
    "sup"
   ]
  },
  {
   "cell_type": "code",
   "execution_count": null,
   "metadata": {},
   "outputs": [],
   "source": []
  }
 ],
 "metadata": {
  "kernelspec": {
   "display_name": "Python 3",
   "language": "python",
   "name": "python3"
  },
  "language_info": {
   "codemirror_mode": {
    "name": "ipython",
    "version": 3
   },
   "file_extension": ".py",
   "mimetype": "text/x-python",
   "name": "python",
   "nbconvert_exporter": "python",
   "pygments_lexer": "ipython3",
   "version": "3.8.3"
  }
 },
 "nbformat": 4,
 "nbformat_minor": 4
}
